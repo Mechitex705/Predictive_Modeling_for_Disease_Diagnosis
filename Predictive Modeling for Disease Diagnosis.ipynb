{
 "cells": [
  {
   "cell_type": "markdown",
   "id": "c80236ba",
   "metadata": {},
   "source": [
    "# Objective:\n",
    "The objective of this project is to develop a predictive model that can accurately classify individuals into diseased or non-diseased categories based on their health attributes. By leveraging machine learning algorithms, we aim to create a reliable tool that healthcare providers can use to assist in disease diagnosis and prognosis."
   ]
  },
  {
   "cell_type": "markdown",
   "id": "faa10cb4",
   "metadata": {},
   "source": [
    "# Importing Libraries"
   ]
  },
  {
   "cell_type": "code",
   "execution_count": 43,
   "id": "26909b4f",
   "metadata": {},
   "outputs": [],
   "source": [
    "# Importing required packages\n",
    "import pandas as pd\n",
    "import numpy as np\n",
    "import seaborn as sns\n",
    "import matplotlib.pyplot as plt\n",
    "#Building machine learning for predictive modeling\n",
    "from sklearn.preprocessing import LabelEncoder\n",
    "from sklearn.preprocessing import StandardScaler\n",
    "from sklearn.preprocessing import MinMaxScaler\n",
    "import pickle\n",
    "from sklearn.svm import SVC\n",
    "from sklearn.model_selection import train_test_split\n",
    "from sklearn.ensemble import RandomForestClassifier\n",
    "from sklearn.linear_model import LogisticRegression\n",
    "from sklearn.model_selection import train_test_split, cross_val_score, StratifiedKFold\n",
    "from sklearn.metrics import accuracy_score, precision_score, recall_score, f1_score, classification_report, confusion_matrix\n",
    "from imblearn.over_sampling import SMOTE"
   ]
  },
  {
   "cell_type": "markdown",
   "id": "5999a503",
   "metadata": {},
   "source": [
    "# Loading the dataset"
   ]
  },
  {
   "cell_type": "code",
   "execution_count": 2,
   "id": "be36cd17",
   "metadata": {},
   "outputs": [],
   "source": [
    "data_train = pd.read_csv('data/Train_data.csv')\n",
    "data_test = pd.read_csv('data/Test_data.csv')"
   ]
  },
  {
   "cell_type": "markdown",
   "id": "d16d4e2e",
   "metadata": {},
   "source": [
    "# Data Inspection"
   ]
  },
  {
   "cell_type": "code",
   "execution_count": 3,
   "id": "70c1cc2d",
   "metadata": {},
   "outputs": [
    {
     "data": {
      "text/html": [
       "<div>\n",
       "<style scoped>\n",
       "    .dataframe tbody tr th:only-of-type {\n",
       "        vertical-align: middle;\n",
       "    }\n",
       "\n",
       "    .dataframe tbody tr th {\n",
       "        vertical-align: top;\n",
       "    }\n",
       "\n",
       "    .dataframe thead th {\n",
       "        text-align: right;\n",
       "    }\n",
       "</style>\n",
       "<table border=\"1\" class=\"dataframe\">\n",
       "  <thead>\n",
       "    <tr style=\"text-align: right;\">\n",
       "      <th></th>\n",
       "      <th>Glucose</th>\n",
       "      <th>Cholesterol</th>\n",
       "      <th>Hemoglobin</th>\n",
       "      <th>Platelets</th>\n",
       "      <th>White Blood Cells</th>\n",
       "      <th>Red Blood Cells</th>\n",
       "      <th>Hematocrit</th>\n",
       "      <th>Mean Corpuscular Volume</th>\n",
       "      <th>Mean Corpuscular Hemoglobin</th>\n",
       "      <th>Mean Corpuscular Hemoglobin Concentration</th>\n",
       "      <th>...</th>\n",
       "      <th>HbA1c</th>\n",
       "      <th>LDL Cholesterol</th>\n",
       "      <th>HDL Cholesterol</th>\n",
       "      <th>ALT</th>\n",
       "      <th>AST</th>\n",
       "      <th>Heart Rate</th>\n",
       "      <th>Creatinine</th>\n",
       "      <th>Troponin</th>\n",
       "      <th>C-reactive Protein</th>\n",
       "      <th>Disease</th>\n",
       "    </tr>\n",
       "  </thead>\n",
       "  <tbody>\n",
       "    <tr>\n",
       "      <th>0</th>\n",
       "      <td>0.739597</td>\n",
       "      <td>0.650198</td>\n",
       "      <td>0.713631</td>\n",
       "      <td>0.868491</td>\n",
       "      <td>0.687433</td>\n",
       "      <td>0.529895</td>\n",
       "      <td>0.290006</td>\n",
       "      <td>0.631045</td>\n",
       "      <td>0.001328</td>\n",
       "      <td>0.795829</td>\n",
       "      <td>...</td>\n",
       "      <td>0.502665</td>\n",
       "      <td>0.215560</td>\n",
       "      <td>0.512941</td>\n",
       "      <td>0.064187</td>\n",
       "      <td>0.610827</td>\n",
       "      <td>0.939485</td>\n",
       "      <td>0.095512</td>\n",
       "      <td>0.465957</td>\n",
       "      <td>0.769230</td>\n",
       "      <td>Healthy</td>\n",
       "    </tr>\n",
       "    <tr>\n",
       "      <th>1</th>\n",
       "      <td>0.121786</td>\n",
       "      <td>0.023058</td>\n",
       "      <td>0.944893</td>\n",
       "      <td>0.905372</td>\n",
       "      <td>0.507711</td>\n",
       "      <td>0.403033</td>\n",
       "      <td>0.164216</td>\n",
       "      <td>0.307553</td>\n",
       "      <td>0.207938</td>\n",
       "      <td>0.505562</td>\n",
       "      <td>...</td>\n",
       "      <td>0.856810</td>\n",
       "      <td>0.652465</td>\n",
       "      <td>0.106961</td>\n",
       "      <td>0.942549</td>\n",
       "      <td>0.344261</td>\n",
       "      <td>0.666368</td>\n",
       "      <td>0.659060</td>\n",
       "      <td>0.816982</td>\n",
       "      <td>0.401166</td>\n",
       "      <td>Diabetes</td>\n",
       "    </tr>\n",
       "    <tr>\n",
       "      <th>2</th>\n",
       "      <td>0.452539</td>\n",
       "      <td>0.116135</td>\n",
       "      <td>0.544560</td>\n",
       "      <td>0.400640</td>\n",
       "      <td>0.294538</td>\n",
       "      <td>0.382021</td>\n",
       "      <td>0.625267</td>\n",
       "      <td>0.295122</td>\n",
       "      <td>0.868369</td>\n",
       "      <td>0.026808</td>\n",
       "      <td>...</td>\n",
       "      <td>0.466795</td>\n",
       "      <td>0.387332</td>\n",
       "      <td>0.421763</td>\n",
       "      <td>0.007186</td>\n",
       "      <td>0.506918</td>\n",
       "      <td>0.431704</td>\n",
       "      <td>0.417295</td>\n",
       "      <td>0.799074</td>\n",
       "      <td>0.779208</td>\n",
       "      <td>Thalasse</td>\n",
       "    </tr>\n",
       "    <tr>\n",
       "      <th>3</th>\n",
       "      <td>0.136609</td>\n",
       "      <td>0.015605</td>\n",
       "      <td>0.419957</td>\n",
       "      <td>0.191487</td>\n",
       "      <td>0.081168</td>\n",
       "      <td>0.166214</td>\n",
       "      <td>0.073293</td>\n",
       "      <td>0.668719</td>\n",
       "      <td>0.125447</td>\n",
       "      <td>0.501051</td>\n",
       "      <td>...</td>\n",
       "      <td>0.016256</td>\n",
       "      <td>0.040137</td>\n",
       "      <td>0.826721</td>\n",
       "      <td>0.265415</td>\n",
       "      <td>0.594148</td>\n",
       "      <td>0.225756</td>\n",
       "      <td>0.490349</td>\n",
       "      <td>0.637061</td>\n",
       "      <td>0.354094</td>\n",
       "      <td>Anemia</td>\n",
       "    </tr>\n",
       "    <tr>\n",
       "      <th>4</th>\n",
       "      <td>0.176737</td>\n",
       "      <td>0.752220</td>\n",
       "      <td>0.971779</td>\n",
       "      <td>0.785286</td>\n",
       "      <td>0.443880</td>\n",
       "      <td>0.439851</td>\n",
       "      <td>0.894991</td>\n",
       "      <td>0.442159</td>\n",
       "      <td>0.257288</td>\n",
       "      <td>0.805987</td>\n",
       "      <td>...</td>\n",
       "      <td>0.429431</td>\n",
       "      <td>0.146294</td>\n",
       "      <td>0.221574</td>\n",
       "      <td>0.015280</td>\n",
       "      <td>0.567115</td>\n",
       "      <td>0.841412</td>\n",
       "      <td>0.153350</td>\n",
       "      <td>0.794008</td>\n",
       "      <td>0.094970</td>\n",
       "      <td>Thalasse</td>\n",
       "    </tr>\n",
       "  </tbody>\n",
       "</table>\n",
       "<p>5 rows × 25 columns</p>\n",
       "</div>"
      ],
      "text/plain": [
       "    Glucose  Cholesterol  Hemoglobin  Platelets  White Blood Cells  \\\n",
       "0  0.739597     0.650198    0.713631   0.868491           0.687433   \n",
       "1  0.121786     0.023058    0.944893   0.905372           0.507711   \n",
       "2  0.452539     0.116135    0.544560   0.400640           0.294538   \n",
       "3  0.136609     0.015605    0.419957   0.191487           0.081168   \n",
       "4  0.176737     0.752220    0.971779   0.785286           0.443880   \n",
       "\n",
       "   Red Blood Cells  Hematocrit  Mean Corpuscular Volume  \\\n",
       "0         0.529895    0.290006                 0.631045   \n",
       "1         0.403033    0.164216                 0.307553   \n",
       "2         0.382021    0.625267                 0.295122   \n",
       "3         0.166214    0.073293                 0.668719   \n",
       "4         0.439851    0.894991                 0.442159   \n",
       "\n",
       "   Mean Corpuscular Hemoglobin  Mean Corpuscular Hemoglobin Concentration  \\\n",
       "0                     0.001328                                   0.795829   \n",
       "1                     0.207938                                   0.505562   \n",
       "2                     0.868369                                   0.026808   \n",
       "3                     0.125447                                   0.501051   \n",
       "4                     0.257288                                   0.805987   \n",
       "\n",
       "   ...     HbA1c  LDL Cholesterol  HDL Cholesterol       ALT       AST  \\\n",
       "0  ...  0.502665         0.215560         0.512941  0.064187  0.610827   \n",
       "1  ...  0.856810         0.652465         0.106961  0.942549  0.344261   \n",
       "2  ...  0.466795         0.387332         0.421763  0.007186  0.506918   \n",
       "3  ...  0.016256         0.040137         0.826721  0.265415  0.594148   \n",
       "4  ...  0.429431         0.146294         0.221574  0.015280  0.567115   \n",
       "\n",
       "   Heart Rate  Creatinine  Troponin  C-reactive Protein   Disease  \n",
       "0    0.939485    0.095512  0.465957            0.769230   Healthy  \n",
       "1    0.666368    0.659060  0.816982            0.401166  Diabetes  \n",
       "2    0.431704    0.417295  0.799074            0.779208  Thalasse  \n",
       "3    0.225756    0.490349  0.637061            0.354094    Anemia  \n",
       "4    0.841412    0.153350  0.794008            0.094970  Thalasse  \n",
       "\n",
       "[5 rows x 25 columns]"
      ]
     },
     "execution_count": 3,
     "metadata": {},
     "output_type": "execute_result"
    }
   ],
   "source": [
    "data_train.head()"
   ]
  },
  {
   "cell_type": "markdown",
   "id": "c695655e",
   "metadata": {},
   "source": [
    "# Observation\n",
    "The dataset contains various health attributes such as Glucose, Cholesterol, Hemoglobin, and others, which are numerical features likely normalized between 0 and 1. The target variable is 'Disease', which indicates the type of disease an individual has or if they are healthy. The dataset includes multiple disease categories, suggesting that this is a multi-class classification problem. The first few entries show a mix of healthy individuals and those with conditions like Diabetes, Thalassemia (labeled as 'Thalasse'), and Anemia. The next steps would involve further exploratory data analysis, data preprocessing, and handling any missing or inconsistent data before proceeding to model building and evaluation."
   ]
  },
  {
   "cell_type": "code",
   "execution_count": 4,
   "id": "e24bfbd3",
   "metadata": {},
   "outputs": [
    {
     "data": {
      "text/plain": [
       "(2351, 25)"
      ]
     },
     "execution_count": 4,
     "metadata": {},
     "output_type": "execute_result"
    }
   ],
   "source": [
    "data_train.shape"
   ]
  },
  {
   "cell_type": "code",
   "execution_count": 11,
   "id": "72f5d4af",
   "metadata": {},
   "outputs": [
    {
     "name": "stdout",
     "output_type": "stream",
     "text": [
      "<class 'pandas.core.frame.DataFrame'>\n",
      "RangeIndex: 2351 entries, 0 to 2350\n",
      "Data columns (total 25 columns):\n",
      " #   Column                                     Non-Null Count  Dtype  \n",
      "---  ------                                     --------------  -----  \n",
      " 0   Glucose                                    2351 non-null   float64\n",
      " 1   Cholesterol                                2351 non-null   float64\n",
      " 2   Hemoglobin                                 2351 non-null   float64\n",
      " 3   Platelets                                  2351 non-null   float64\n",
      " 4   White Blood Cells                          2351 non-null   float64\n",
      " 5   Red Blood Cells                            2351 non-null   float64\n",
      " 6   Hematocrit                                 2351 non-null   float64\n",
      " 7   Mean Corpuscular Volume                    2351 non-null   float64\n",
      " 8   Mean Corpuscular Hemoglobin                2351 non-null   float64\n",
      " 9   Mean Corpuscular Hemoglobin Concentration  2351 non-null   float64\n",
      " 10  Insulin                                    2351 non-null   float64\n",
      " 11  BMI                                        2351 non-null   float64\n",
      " 12  Systolic Blood Pressure                    2351 non-null   float64\n",
      " 13  Diastolic Blood Pressure                   2351 non-null   float64\n",
      " 14  Triglycerides                              2351 non-null   float64\n",
      " 15  HbA1c                                      2351 non-null   float64\n",
      " 16  LDL Cholesterol                            2351 non-null   float64\n",
      " 17  HDL Cholesterol                            2351 non-null   float64\n",
      " 18  ALT                                        2351 non-null   float64\n",
      " 19  AST                                        2351 non-null   float64\n",
      " 20  Heart Rate                                 2351 non-null   float64\n",
      " 21  Creatinine                                 2351 non-null   float64\n",
      " 22  Troponin                                   2351 non-null   float64\n",
      " 23  C-reactive Protein                         2351 non-null   float64\n",
      " 24  Disease                                    2351 non-null   int32  \n",
      "dtypes: float64(24), int32(1)\n",
      "memory usage: 450.1 KB\n"
     ]
    }
   ],
   "source": [
    "data_train.info()"
   ]
  },
  {
   "cell_type": "markdown",
   "id": "af3f4b17",
   "metadata": {},
   "source": [
    "# Observation:\n",
    "\n",
    "There are a total of 2351 entries (rows) in the dataset.\n",
    "Each column has 2351 non-null values, indicating that there are no missing values in the dataset.\n",
    "Most of the columns contain numerical data (float64), representing various health attributes.\n",
    "The \"Disease\" column is of type object, which suggests that it contains categorical data (likely the disease labels).\n",
    "This summary provides important information about the structure and completeness of the dataset, which will be useful for modeling."
   ]
  },
  {
   "cell_type": "code",
   "execution_count": 6,
   "id": "9186bd55",
   "metadata": {},
   "outputs": [
    {
     "data": {
      "text/plain": [
       "Glucose                                      0\n",
       "Cholesterol                                  0\n",
       "Hemoglobin                                   0\n",
       "Platelets                                    0\n",
       "White Blood Cells                            0\n",
       "Red Blood Cells                              0\n",
       "Hematocrit                                   0\n",
       "Mean Corpuscular Volume                      0\n",
       "Mean Corpuscular Hemoglobin                  0\n",
       "Mean Corpuscular Hemoglobin Concentration    0\n",
       "Insulin                                      0\n",
       "BMI                                          0\n",
       "Systolic Blood Pressure                      0\n",
       "Diastolic Blood Pressure                     0\n",
       "Triglycerides                                0\n",
       "HbA1c                                        0\n",
       "LDL Cholesterol                              0\n",
       "HDL Cholesterol                              0\n",
       "ALT                                          0\n",
       "AST                                          0\n",
       "Heart Rate                                   0\n",
       "Creatinine                                   0\n",
       "Troponin                                     0\n",
       "C-reactive Protein                           0\n",
       "Disease                                      0\n",
       "dtype: int64"
      ]
     },
     "execution_count": 6,
     "metadata": {},
     "output_type": "execute_result"
    }
   ],
   "source": [
    "data_train.isnull().sum()"
   ]
  },
  {
   "cell_type": "markdown",
   "id": "a1fff49b",
   "metadata": {},
   "source": [
    "# Summary Statistic"
   ]
  },
  {
   "cell_type": "code",
   "execution_count": 7,
   "id": "f269864d",
   "metadata": {},
   "outputs": [
    {
     "data": {
      "text/html": [
       "<div>\n",
       "<style scoped>\n",
       "    .dataframe tbody tr th:only-of-type {\n",
       "        vertical-align: middle;\n",
       "    }\n",
       "\n",
       "    .dataframe tbody tr th {\n",
       "        vertical-align: top;\n",
       "    }\n",
       "\n",
       "    .dataframe thead th {\n",
       "        text-align: right;\n",
       "    }\n",
       "</style>\n",
       "<table border=\"1\" class=\"dataframe\">\n",
       "  <thead>\n",
       "    <tr style=\"text-align: right;\">\n",
       "      <th></th>\n",
       "      <th>Glucose</th>\n",
       "      <th>Cholesterol</th>\n",
       "      <th>Hemoglobin</th>\n",
       "      <th>Platelets</th>\n",
       "      <th>White Blood Cells</th>\n",
       "      <th>Red Blood Cells</th>\n",
       "      <th>Hematocrit</th>\n",
       "      <th>Mean Corpuscular Volume</th>\n",
       "      <th>Mean Corpuscular Hemoglobin</th>\n",
       "      <th>Mean Corpuscular Hemoglobin Concentration</th>\n",
       "      <th>...</th>\n",
       "      <th>Triglycerides</th>\n",
       "      <th>HbA1c</th>\n",
       "      <th>LDL Cholesterol</th>\n",
       "      <th>HDL Cholesterol</th>\n",
       "      <th>ALT</th>\n",
       "      <th>AST</th>\n",
       "      <th>Heart Rate</th>\n",
       "      <th>Creatinine</th>\n",
       "      <th>Troponin</th>\n",
       "      <th>C-reactive Protein</th>\n",
       "    </tr>\n",
       "  </thead>\n",
       "  <tbody>\n",
       "    <tr>\n",
       "      <th>count</th>\n",
       "      <td>2351.000000</td>\n",
       "      <td>2351.000000</td>\n",
       "      <td>2351.000000</td>\n",
       "      <td>2351.000000</td>\n",
       "      <td>2351.000000</td>\n",
       "      <td>2351.000000</td>\n",
       "      <td>2351.000000</td>\n",
       "      <td>2351.000000</td>\n",
       "      <td>2351.000000</td>\n",
       "      <td>2351.000000</td>\n",
       "      <td>...</td>\n",
       "      <td>2351.000000</td>\n",
       "      <td>2351.000000</td>\n",
       "      <td>2351.000000</td>\n",
       "      <td>2351.000000</td>\n",
       "      <td>2351.000000</td>\n",
       "      <td>2351.000000</td>\n",
       "      <td>2351.000000</td>\n",
       "      <td>2351.000000</td>\n",
       "      <td>2351.000000</td>\n",
       "      <td>2351.000000</td>\n",
       "    </tr>\n",
       "    <tr>\n",
       "      <th>mean</th>\n",
       "      <td>0.362828</td>\n",
       "      <td>0.393648</td>\n",
       "      <td>0.586190</td>\n",
       "      <td>0.504027</td>\n",
       "      <td>0.511086</td>\n",
       "      <td>0.506590</td>\n",
       "      <td>0.507152</td>\n",
       "      <td>0.492200</td>\n",
       "      <td>0.484459</td>\n",
       "      <td>0.562273</td>\n",
       "      <td>...</td>\n",
       "      <td>0.374373</td>\n",
       "      <td>0.439112</td>\n",
       "      <td>0.421777</td>\n",
       "      <td>0.546079</td>\n",
       "      <td>0.434972</td>\n",
       "      <td>0.452138</td>\n",
       "      <td>0.582255</td>\n",
       "      <td>0.425075</td>\n",
       "      <td>0.454597</td>\n",
       "      <td>0.430308</td>\n",
       "    </tr>\n",
       "    <tr>\n",
       "      <th>std</th>\n",
       "      <td>0.251889</td>\n",
       "      <td>0.239449</td>\n",
       "      <td>0.271498</td>\n",
       "      <td>0.303347</td>\n",
       "      <td>0.277270</td>\n",
       "      <td>0.266565</td>\n",
       "      <td>0.285537</td>\n",
       "      <td>0.275735</td>\n",
       "      <td>0.315618</td>\n",
       "      <td>0.273281</td>\n",
       "      <td>...</td>\n",
       "      <td>0.256981</td>\n",
       "      <td>0.263779</td>\n",
       "      <td>0.252124</td>\n",
       "      <td>0.269511</td>\n",
       "      <td>0.267388</td>\n",
       "      <td>0.242075</td>\n",
       "      <td>0.250915</td>\n",
       "      <td>0.229298</td>\n",
       "      <td>0.251189</td>\n",
       "      <td>0.243034</td>\n",
       "    </tr>\n",
       "    <tr>\n",
       "      <th>min</th>\n",
       "      <td>0.010994</td>\n",
       "      <td>0.012139</td>\n",
       "      <td>0.003021</td>\n",
       "      <td>0.012594</td>\n",
       "      <td>0.010139</td>\n",
       "      <td>0.044565</td>\n",
       "      <td>0.011772</td>\n",
       "      <td>0.046942</td>\n",
       "      <td>0.000554</td>\n",
       "      <td>0.006947</td>\n",
       "      <td>...</td>\n",
       "      <td>0.005217</td>\n",
       "      <td>0.016256</td>\n",
       "      <td>0.033037</td>\n",
       "      <td>0.039505</td>\n",
       "      <td>0.007186</td>\n",
       "      <td>0.013013</td>\n",
       "      <td>0.114550</td>\n",
       "      <td>0.021239</td>\n",
       "      <td>0.007490</td>\n",
       "      <td>0.004867</td>\n",
       "    </tr>\n",
       "    <tr>\n",
       "      <th>25%</th>\n",
       "      <td>0.129198</td>\n",
       "      <td>0.195818</td>\n",
       "      <td>0.346092</td>\n",
       "      <td>0.200865</td>\n",
       "      <td>0.259467</td>\n",
       "      <td>0.263589</td>\n",
       "      <td>0.288132</td>\n",
       "      <td>0.287532</td>\n",
       "      <td>0.207938</td>\n",
       "      <td>0.355774</td>\n",
       "      <td>...</td>\n",
       "      <td>0.184604</td>\n",
       "      <td>0.188750</td>\n",
       "      <td>0.217757</td>\n",
       "      <td>0.307132</td>\n",
       "      <td>0.211078</td>\n",
       "      <td>0.239659</td>\n",
       "      <td>0.339125</td>\n",
       "      <td>0.213026</td>\n",
       "      <td>0.288961</td>\n",
       "      <td>0.196192</td>\n",
       "    </tr>\n",
       "    <tr>\n",
       "      <th>50%</th>\n",
       "      <td>0.351722</td>\n",
       "      <td>0.397083</td>\n",
       "      <td>0.609836</td>\n",
       "      <td>0.533962</td>\n",
       "      <td>0.527381</td>\n",
       "      <td>0.467431</td>\n",
       "      <td>0.493428</td>\n",
       "      <td>0.453052</td>\n",
       "      <td>0.420723</td>\n",
       "      <td>0.603635</td>\n",
       "      <td>...</td>\n",
       "      <td>0.317857</td>\n",
       "      <td>0.466375</td>\n",
       "      <td>0.413071</td>\n",
       "      <td>0.512941</td>\n",
       "      <td>0.373235</td>\n",
       "      <td>0.486317</td>\n",
       "      <td>0.610860</td>\n",
       "      <td>0.417295</td>\n",
       "      <td>0.426863</td>\n",
       "      <td>0.481601</td>\n",
       "    </tr>\n",
       "    <tr>\n",
       "      <th>75%</th>\n",
       "      <td>0.582278</td>\n",
       "      <td>0.582178</td>\n",
       "      <td>0.791215</td>\n",
       "      <td>0.754841</td>\n",
       "      <td>0.743164</td>\n",
       "      <td>0.743670</td>\n",
       "      <td>0.753657</td>\n",
       "      <td>0.722293</td>\n",
       "      <td>0.778160</td>\n",
       "      <td>0.741381</td>\n",
       "      <td>...</td>\n",
       "      <td>0.572330</td>\n",
       "      <td>0.652514</td>\n",
       "      <td>0.604753</td>\n",
       "      <td>0.779378</td>\n",
       "      <td>0.710319</td>\n",
       "      <td>0.616181</td>\n",
       "      <td>0.800666</td>\n",
       "      <td>0.606719</td>\n",
       "      <td>0.682164</td>\n",
       "      <td>0.631426</td>\n",
       "    </tr>\n",
       "    <tr>\n",
       "      <th>max</th>\n",
       "      <td>0.968460</td>\n",
       "      <td>0.905026</td>\n",
       "      <td>0.983306</td>\n",
       "      <td>0.999393</td>\n",
       "      <td>0.990786</td>\n",
       "      <td>1.000000</td>\n",
       "      <td>0.977520</td>\n",
       "      <td>0.995263</td>\n",
       "      <td>0.963235</td>\n",
       "      <td>0.975586</td>\n",
       "      <td>...</td>\n",
       "      <td>0.973679</td>\n",
       "      <td>0.950218</td>\n",
       "      <td>0.983826</td>\n",
       "      <td>0.989411</td>\n",
       "      <td>0.942549</td>\n",
       "      <td>0.994460</td>\n",
       "      <td>0.996873</td>\n",
       "      <td>0.925924</td>\n",
       "      <td>0.972803</td>\n",
       "      <td>0.797906</td>\n",
       "    </tr>\n",
       "  </tbody>\n",
       "</table>\n",
       "<p>8 rows × 24 columns</p>\n",
       "</div>"
      ],
      "text/plain": [
       "           Glucose  Cholesterol   Hemoglobin    Platelets  White Blood Cells  \\\n",
       "count  2351.000000  2351.000000  2351.000000  2351.000000        2351.000000   \n",
       "mean      0.362828     0.393648     0.586190     0.504027           0.511086   \n",
       "std       0.251889     0.239449     0.271498     0.303347           0.277270   \n",
       "min       0.010994     0.012139     0.003021     0.012594           0.010139   \n",
       "25%       0.129198     0.195818     0.346092     0.200865           0.259467   \n",
       "50%       0.351722     0.397083     0.609836     0.533962           0.527381   \n",
       "75%       0.582278     0.582178     0.791215     0.754841           0.743164   \n",
       "max       0.968460     0.905026     0.983306     0.999393           0.990786   \n",
       "\n",
       "       Red Blood Cells   Hematocrit  Mean Corpuscular Volume  \\\n",
       "count      2351.000000  2351.000000              2351.000000   \n",
       "mean          0.506590     0.507152                 0.492200   \n",
       "std           0.266565     0.285537                 0.275735   \n",
       "min           0.044565     0.011772                 0.046942   \n",
       "25%           0.263589     0.288132                 0.287532   \n",
       "50%           0.467431     0.493428                 0.453052   \n",
       "75%           0.743670     0.753657                 0.722293   \n",
       "max           1.000000     0.977520                 0.995263   \n",
       "\n",
       "       Mean Corpuscular Hemoglobin  Mean Corpuscular Hemoglobin Concentration  \\\n",
       "count                  2351.000000                                2351.000000   \n",
       "mean                      0.484459                                   0.562273   \n",
       "std                       0.315618                                   0.273281   \n",
       "min                       0.000554                                   0.006947   \n",
       "25%                       0.207938                                   0.355774   \n",
       "50%                       0.420723                                   0.603635   \n",
       "75%                       0.778160                                   0.741381   \n",
       "max                       0.963235                                   0.975586   \n",
       "\n",
       "       ...  Triglycerides        HbA1c  LDL Cholesterol  HDL Cholesterol  \\\n",
       "count  ...    2351.000000  2351.000000      2351.000000      2351.000000   \n",
       "mean   ...       0.374373     0.439112         0.421777         0.546079   \n",
       "std    ...       0.256981     0.263779         0.252124         0.269511   \n",
       "min    ...       0.005217     0.016256         0.033037         0.039505   \n",
       "25%    ...       0.184604     0.188750         0.217757         0.307132   \n",
       "50%    ...       0.317857     0.466375         0.413071         0.512941   \n",
       "75%    ...       0.572330     0.652514         0.604753         0.779378   \n",
       "max    ...       0.973679     0.950218         0.983826         0.989411   \n",
       "\n",
       "               ALT          AST   Heart Rate   Creatinine     Troponin  \\\n",
       "count  2351.000000  2351.000000  2351.000000  2351.000000  2351.000000   \n",
       "mean      0.434972     0.452138     0.582255     0.425075     0.454597   \n",
       "std       0.267388     0.242075     0.250915     0.229298     0.251189   \n",
       "min       0.007186     0.013013     0.114550     0.021239     0.007490   \n",
       "25%       0.211078     0.239659     0.339125     0.213026     0.288961   \n",
       "50%       0.373235     0.486317     0.610860     0.417295     0.426863   \n",
       "75%       0.710319     0.616181     0.800666     0.606719     0.682164   \n",
       "max       0.942549     0.994460     0.996873     0.925924     0.972803   \n",
       "\n",
       "       C-reactive Protein  \n",
       "count         2351.000000  \n",
       "mean             0.430308  \n",
       "std              0.243034  \n",
       "min              0.004867  \n",
       "25%              0.196192  \n",
       "50%              0.481601  \n",
       "75%              0.631426  \n",
       "max              0.797906  \n",
       "\n",
       "[8 rows x 24 columns]"
      ]
     },
     "execution_count": 7,
     "metadata": {},
     "output_type": "execute_result"
    }
   ],
   "source": [
    "data_train.describe()"
   ]
  },
  {
   "cell_type": "markdown",
   "id": "fe102880",
   "metadata": {},
   "source": [
    "# Observation:\n",
    "\n",
    "Each row provides statistical information for a numerical attribute.\n",
    "\"count\" represents the number of non-null values for each attribute.\n",
    "\"mean\" represents the mean (average) value of each attribute.\n",
    "\"std\" represents the standard deviation, which measures the spread or dispersion of the values around the mean.\n",
    "\"min\" and \"max\" represent the minimum and maximum values of each attribute, respectively.\n",
    "The \"25%\", \"50%\", and \"75%\" rows represent the 25th percentile (1st quartile), 50th percentile (median or 2nd quartile), and 75th percentile (3rd quartile), respectively.\n",
    "This summary provides insights into the distribution and variability of the numerical attributes in the dataset, which can be helpful for understanding the data and identifying any potential outliers or patterns."
   ]
  },
  {
   "cell_type": "markdown",
   "id": "05ce89bc",
   "metadata": {},
   "source": [
    "## Preprocessing"
   ]
  },
  {
   "cell_type": "code",
   "execution_count": 8,
   "id": "f92a3cd4",
   "metadata": {},
   "outputs": [
    {
     "data": {
      "text/plain": [
       "array(['Healthy', 'Diabetes', 'Thalasse', 'Anemia', 'Thromboc'],\n",
       "      dtype=object)"
      ]
     },
     "execution_count": 8,
     "metadata": {},
     "output_type": "execute_result"
    }
   ],
   "source": [
    "data_train[\"Disease\"].unique()"
   ]
  },
  {
   "cell_type": "code",
   "execution_count": 9,
   "id": "db465ee4",
   "metadata": {},
   "outputs": [],
   "source": [
    "# Initialize the LabelEncoder\n",
    "label_encoder = LabelEncoder()"
   ]
  },
  {
   "cell_type": "code",
   "execution_count": 10,
   "id": "94286182",
   "metadata": {},
   "outputs": [],
   "source": [
    "# Fit and transform the 'Disease' column\n",
    "data_train['Disease'] = label_encoder.fit_transform(data_train['Disease'])"
   ]
  },
  {
   "cell_type": "code",
   "execution_count": 12,
   "id": "f2cba02c",
   "metadata": {},
   "outputs": [
    {
     "data": {
      "text/plain": [
       "0    623\n",
       "2    556\n",
       "1    540\n",
       "3    509\n",
       "4    123\n",
       "Name: Disease, dtype: int64"
      ]
     },
     "execution_count": 12,
     "metadata": {},
     "output_type": "execute_result"
    }
   ],
   "source": [
    "data_train[\"Disease\"].value_counts()"
   ]
  },
  {
   "cell_type": "markdown",
   "id": "b7ab0e9e",
   "metadata": {},
   "source": []
  },
  {
   "cell_type": "markdown",
   "id": "a638561b",
   "metadata": {},
   "source": [
    "# Correlation Analysis"
   ]
  },
  {
   "cell_type": "code",
   "execution_count": 13,
   "id": "aeda54f6",
   "metadata": {},
   "outputs": [
    {
     "data": {
      "image/png": "[encoded data removed]",
      "text/plain": [
       "<Figure size 1000x600 with 1 Axes>"
      ]
     },
     "metadata": {},
     "output_type": "display_data"
    }
   ],
   "source": [
    "plt.figure(figsize=(10, 6))\n",
    "ax = sns.countplot(x='Disease', data=data_train)\n",
    "\n",
    "# Adding the count annotations on each bar\n",
    "for p in ax.patches:\n",
    "    ax.annotate(f'{p.get_height()}', \n",
    "                (p.get_x() + p.get_width() / 2., p.get_height()), \n",
    "                ha='center', va='baseline', \n",
    "                fontsize=12, color='black', xytext=(0, 5), \n",
    "                textcoords='offset points')\n",
    "\n",
    "plt.show()"
   ]
  },
  {
   "cell_type": "markdown",
   "id": "d4537343",
   "metadata": {},
   "source": [
    "# # Separating the feature and target variable"
   ]
  },
  {
   "cell_type": "code",
   "execution_count": 14,
   "id": "ff41d696",
   "metadata": {},
   "outputs": [],
   "source": [
    "# Spliting the dataset into features (X) and target variable (y)\n",
    "X = data_train.drop('Disease', axis = 1)\n",
    "y = data_train['Disease']"
   ]
  },
  {
   "cell_type": "code",
   "execution_count": 15,
   "id": "cbb11d48",
   "metadata": {},
   "outputs": [],
   "source": [
    "# Spliting the data into training and test\n",
    "X_train, X_test, y_train, y_test = train_test_split(X, y, test_size=0.2, random_state=42)"
   ]
  },
  {
   "cell_type": "code",
   "execution_count": 16,
   "id": "3891ed52",
   "metadata": {},
   "outputs": [
    {
     "data": {
      "text/plain": [
       "((1880, 24), (471, 24), (1880,), (471,))"
      ]
     },
     "execution_count": 16,
     "metadata": {},
     "output_type": "execute_result"
    }
   ],
   "source": [
    "# Output the shapes of the resulting dataframes\n",
    "(X_train.shape, X_test.shape, y_train.shape, y_test.shape)"
   ]
  },
  {
   "cell_type": "markdown",
   "id": "2f8a712a",
   "metadata": {},
   "source": [
    "The dataset was successfully split into training and testing sets with an 80-20 split, resulting in 1880 samples for training and 471 samples for testing. Each sample contains 24 features, and the target variable 'Disease' has been encoded into numerical labels for both training and testing sets. There are no missing values in the dataset. The data is now prepared for model training and evaluation to predict the disease category based on the given health attributes."
   ]
  },
  {
   "cell_type": "markdown",
   "id": "70ffd861",
   "metadata": {},
   "source": [
    "# Lets Handle Imbalance"
   ]
  },
  {
   "cell_type": "markdown",
   "id": "24e40be3",
   "metadata": {},
   "source": [
    "### Initialize SMOTE"
   ]
  },
  {
   "cell_type": "code",
   "execution_count": 17,
   "id": "37d10bfe",
   "metadata": {},
   "outputs": [],
   "source": [
    "smote = SMOTE(random_state=42)"
   ]
  },
  {
   "cell_type": "markdown",
   "id": "871315d7",
   "metadata": {},
   "source": [
    "### Apply SMOTE to the training data"
   ]
  },
  {
   "cell_type": "code",
   "execution_count": 18,
   "id": "c8a6c922",
   "metadata": {},
   "outputs": [],
   "source": [
    "X_train, y_train = smote.fit_resample(X_train, y_train)"
   ]
  },
  {
   "cell_type": "code",
   "execution_count": 20,
   "id": "ee91e810",
   "metadata": {},
   "outputs": [
    {
     "name": "stdout",
     "output_type": "stream",
     "text": [
      "3    489\n",
      "1    489\n",
      "4    489\n",
      "0    489\n",
      "2    489\n",
      "Name: Disease, dtype: int64\n"
     ]
    }
   ],
   "source": [
    "print(pd.Series(y_train).value_counts())"
   ]
  },
  {
   "cell_type": "code",
   "execution_count": null,
   "id": "8ff5977b",
   "metadata": {},
   "outputs": [],
   "source": []
  },
  {
   "cell_type": "markdown",
   "id": "2388f92b",
   "metadata": {},
   "source": [
    "# Standard Scaler"
   ]
  },
  {
   "cell_type": "code",
   "execution_count": 21,
   "id": "e36b622c",
   "metadata": {},
   "outputs": [],
   "source": [
    "# Appling standard scaling to get optimized result \n",
    "scaler = StandardScaler()"
   ]
  },
  {
   "cell_type": "code",
   "execution_count": 22,
   "id": "4de34346",
   "metadata": {},
   "outputs": [],
   "source": [
    "X_train = scaler.fit_transform(X_train)\n",
    "X_test = scaler.transform(X_test)"
   ]
  },
  {
   "cell_type": "markdown",
   "id": "d86db1b4",
   "metadata": {},
   "source": [
    "# Model Prediction "
   ]
  },
  {
   "cell_type": "markdown",
   "id": "586dad36",
   "metadata": {},
   "source": [
    "### Using Logistic Regression"
   ]
  },
  {
   "cell_type": "code",
   "execution_count": 24,
   "id": "e4f704ea",
   "metadata": {},
   "outputs": [
    {
     "data": {
      "text/plain": [
       "LogisticRegression(max_iter=1000, random_state=42)"
      ]
     },
     "execution_count": 24,
     "metadata": {},
     "output_type": "execute_result"
    }
   ],
   "source": [
    "# Train the logistic regression model\n",
    "model = LogisticRegression(random_state=42, max_iter=1000)\n",
    "model.fit(X_train, y_train)"
   ]
  },
  {
   "cell_type": "code",
   "execution_count": 44,
   "id": "b16942fd",
   "metadata": {},
   "outputs": [
    {
     "name": "stdout",
     "output_type": "stream",
     "text": [
      "Model and scaler saved successfully!\n"
     ]
    }
   ],
   "source": [
    "# Train the model\n",
    "model = LogisticRegression()\n",
    "model.fit(X_train, y_train)\n",
    "\n",
    "# Save the trained model to a file\n",
    "with open('model.pkl', 'wb') as model_file:\n",
    "    pickle.dump(model, model_file)\n",
    "\n",
    "# Save the scaler to a file\n",
    "with open('scaler.pkl', 'wb') as scaler_file:\n",
    "    pickle.dump(scaler, scaler_file)\n",
    "\n",
    "print(\"Model and scaler saved successfully!\")"
   ]
  },
  {
   "cell_type": "code",
   "execution_count": 25,
   "id": "ae852afb",
   "metadata": {},
   "outputs": [],
   "source": [
    "logistic_regression = LogisticRegression()"
   ]
  },
  {
   "cell_type": "code",
   "execution_count": 26,
   "id": "aa44aa32",
   "metadata": {},
   "outputs": [],
   "source": [
    "# Cross-validation\n",
    "cv = StratifiedKFold(n_splits=5)\n",
    "cross_val_scores = cross_val_score(logistic_regression, X_train, y_train, cv=cv, scoring='f1_weighted')"
   ]
  },
  {
   "cell_type": "code",
   "execution_count": 27,
   "id": "76dfd7ca",
   "metadata": {},
   "outputs": [
    {
     "name": "stdout",
     "output_type": "stream",
     "text": [
      "Cross-validation F1-scores: [1. 1. 1. 1. 1.]\n",
      "Mean Cross-validation F1-score: 1.0\n"
     ]
    }
   ],
   "source": [
    "print(f'Cross-validation F1-scores: {cross_val_scores}')\n",
    "print(f'Mean Cross-validation F1-score: {cross_val_scores.mean()}')"
   ]
  },
  {
   "cell_type": "code",
   "execution_count": 28,
   "id": "b55ee4f1",
   "metadata": {},
   "outputs": [
    {
     "data": {
      "text/plain": [
       "LogisticRegression()"
      ]
     },
     "execution_count": 28,
     "metadata": {},
     "output_type": "execute_result"
    }
   ],
   "source": [
    "logistic_regression.fit(X_train, y_train)"
   ]
  },
  {
   "cell_type": "code",
   "execution_count": 29,
   "id": "4af710e9",
   "metadata": {},
   "outputs": [],
   "source": [
    "# Predictions on the testing set\n",
    "y_pred = logistic_regression.predict(X_test)"
   ]
  },
  {
   "cell_type": "markdown",
   "id": "62bef2dc",
   "metadata": {},
   "source": [
    "# Evaluation"
   ]
  },
  {
   "cell_type": "code",
   "execution_count": 30,
   "id": "09563236",
   "metadata": {},
   "outputs": [],
   "source": [
    "# Evaluate the model\n",
    "accuracy_logistic = accuracy_score(y_test, y_pred)\n",
    "precision_logistic = precision_score(y_test, y_pred, average='weighted')\n",
    "recall_logistic = recall_score(y_test, y_pred, average='weighted')\n",
    "f1_logistic = f1_score(y_test, y_pred, average='weighted')\n",
    "conf_matrix_logistic = confusion_matrix(y_test, y_pred)\n",
    "class_report_logistic = classification_report(y_test, y_pred)"
   ]
  },
  {
   "cell_type": "code",
   "execution_count": 31,
   "id": "fba9265e",
   "metadata": {},
   "outputs": [
    {
     "name": "stdout",
     "output_type": "stream",
     "text": [
      "Logistic Regression Classifier Metrics:\n",
      "Accuracy: 1.0\n",
      "Precision: 1.0\n",
      "Recall: 1.0\n",
      "F1-score: 1.0\n",
      "Confusion Matrix:\n",
      "[[134   0   0   0   0]\n",
      " [  0 112   0   0   0]\n",
      " [  0   0 102   0   0]\n",
      " [  0   0   0 103   0]\n",
      " [  0   0   0   0  20]]\n",
      "Classification Report:\n",
      "              precision    recall  f1-score   support\n",
      "\n",
      "           0       1.00      1.00      1.00       134\n",
      "           1       1.00      1.00      1.00       112\n",
      "           2       1.00      1.00      1.00       102\n",
      "           3       1.00      1.00      1.00       103\n",
      "           4       1.00      1.00      1.00        20\n",
      "\n",
      "    accuracy                           1.00       471\n",
      "   macro avg       1.00      1.00      1.00       471\n",
      "weighted avg       1.00      1.00      1.00       471\n",
      "\n"
     ]
    }
   ],
   "source": [
    "print(\"Logistic Regression Classifier Metrics:\")\n",
    "print(f\"Accuracy: {accuracy_logistic}\")\n",
    "print(f\"Precision: {precision_logistic}\")\n",
    "print(f\"Recall: {recall_logistic}\")\n",
    "print(f\"F1-score: {f1_logistic}\")\n",
    "print(\"Confusion Matrix:\")\n",
    "print(conf_matrix_logistic)\n",
    "print(\"Classification Report:\")\n",
    "print(class_report_logistic)"
   ]
  },
  {
   "cell_type": "markdown",
   "id": "194185ed",
   "metadata": {},
   "source": [
    "The output of our Logistic Regression classifier metrics indicates that the model has achieved perfect performance on the test set. Here’s a detailed insight into each metric and what this result implies:\n",
    "\n",
    "**Perfect Classification:**\n",
    "\n",
    "    -The model achieved a perfect score across all evaluation metrics (accuracy, precision, recall, and F1-score), indicating flawless performance in predicting the disease based on health attributes.\n",
    "\n",
    "**Confusion Matrix Analysis:**\n",
    "\n",
    "    The confusion matrix shows that the model correctly classified all instances without any errors. Each class (representing different diseases) has no false positives or false negatives, which is an ideal outcome in classification tasks."
   ]
  },
  {
   "cell_type": "markdown",
   "id": "687fc576",
   "metadata": {},
   "source": [
    "### Using Random Forest"
   ]
  },
  {
   "cell_type": "code",
   "execution_count": 32,
   "id": "6d0e172a",
   "metadata": {},
   "outputs": [],
   "source": [
    "random_forest = RandomForestClassifier(n_estimators=200)\n",
    "# Train the model\n",
    "random_forest.fit(X_train, y_train)\n",
    "# Make predictions on the test set\n",
    "y_pred_rf = random_forest.predict(X_test)"
   ]
  },
  {
   "cell_type": "code",
   "execution_count": 33,
   "id": "a870199a",
   "metadata": {},
   "outputs": [],
   "source": [
    "# Evaluate the model\n",
    "accuracy = accuracy_score(y_test, y_pred_rf)\n",
    "precision = precision_score(y_test, y_pred_rf, average='weighted')\n",
    "recall = recall_score(y_test, y_pred_rf, average='weighted')\n",
    "f1_score = f1_score(y_test, y_pred_rf, average='weighted')\n",
    "conf_matrix = confusion_matrix(y_test, y_pred_rf)\n",
    "class_report = classification_report(y_test, y_pred_rf)"
   ]
  },
  {
   "cell_type": "code",
   "execution_count": 34,
   "id": "7fb69eac",
   "metadata": {},
   "outputs": [
    {
     "name": "stdout",
     "output_type": "stream",
     "text": [
      "Logistic Regression Classifier Metrics:\n",
      "Accuracy: 1.0\n",
      "Precision: 1.0\n",
      "Recall: 1.0\n",
      "F1-score: 1.0\n",
      "Confusion Matrix:\n",
      "[[134   0   0   0   0]\n",
      " [  0 112   0   0   0]\n",
      " [  0   0 102   0   0]\n",
      " [  0   0   0 103   0]\n",
      " [  0   0   0   0  20]]\n",
      "Classification Report:\n",
      "              precision    recall  f1-score   support\n",
      "\n",
      "           0       1.00      1.00      1.00       134\n",
      "           1       1.00      1.00      1.00       112\n",
      "           2       1.00      1.00      1.00       102\n",
      "           3       1.00      1.00      1.00       103\n",
      "           4       1.00      1.00      1.00        20\n",
      "\n",
      "    accuracy                           1.00       471\n",
      "   macro avg       1.00      1.00      1.00       471\n",
      "weighted avg       1.00      1.00      1.00       471\n",
      "\n"
     ]
    }
   ],
   "source": [
    "print(\"Logistic Regression Classifier Metrics:\")\n",
    "print(f\"Accuracy: {accuracy}\")\n",
    "print(f\"Precision: {precision}\")\n",
    "print(f\"Recall: {recall}\")\n",
    "print(f\"F1-score: {f1_score}\")\n",
    "print(\"Confusion Matrix:\")\n",
    "print(conf_matrix)\n",
    "print(\"Classification Report:\")\n",
    "print(class_report)"
   ]
  },
  {
   "cell_type": "markdown",
   "id": "781ccaca",
   "metadata": {},
   "source": [
    "## Predicting the likelyhood of patients"
   ]
  },
  {
   "cell_type": "code",
   "execution_count": 35,
   "id": "c53e084a",
   "metadata": {},
   "outputs": [],
   "source": [
    "new_patient_data = {\n",
    "    'Glucose': 0.739597, \n",
    "    'Cholesterol': 0.650198, \n",
    "    'Hemoglobin': 0.713631, \n",
    "    'Platelets': 0.868491, \n",
    "    'White Blood Cells': 0.687433, \n",
    "    'Red Blood Cells': 0.529895, \n",
    "    'Hematocrit': 0.290006, \n",
    "    'Mean Corpuscular Volume': 0.631045, \n",
    "    'Mean Corpuscular Hemoglobin': 0.001328, \n",
    "    'Mean Corpuscular Hemoglobin Concentration': 0.795829, \n",
    "    'Insulin': 0.512941, \n",
    "    'BMI': 0.856810, \n",
    "    'Systolic Blood Pressure': 0.402342, \n",
    "    'Diastolic Blood Pressure': 0.286307, \n",
    "    'Triglycerides': 0.348211, \n",
    "    'HbA1c': 0.502665, \n",
    "    'LDL Cholesterol': 0.215560, \n",
    "    'HDL Cholesterol': 0.512941, \n",
    "    'ALT': 0.064187, \n",
    "    'AST': 0.610827, \n",
    "    'Heart Rate': 0.939485, \n",
    "    'Creatinine': 0.095512, \n",
    "    'Troponin': 0.465957, \n",
    "    'C-reactive Protein': 0.769230\n",
    "}"
   ]
  },
  {
   "cell_type": "code",
   "execution_count": 36,
   "id": "1dd93c67",
   "metadata": {},
   "outputs": [],
   "source": [
    "# Create a DataFrame for the new patient data\n",
    "new_patient_df = pd.DataFrame([new_patient_data])"
   ]
  },
  {
   "cell_type": "code",
   "execution_count": 37,
   "id": "96fbed56",
   "metadata": {},
   "outputs": [],
   "source": [
    "# Ensure columns match the training data\n",
    "new_patient_df = new_patient_df[list(new_patient_data.keys())]"
   ]
  },
  {
   "cell_type": "code",
   "execution_count": 38,
   "id": "f8cd33c1",
   "metadata": {},
   "outputs": [],
   "source": [
    "# Scale the new patient data using the fitted scaler\n",
    "new_patient_scaled = scaler.transform(new_patient_df)"
   ]
  },
  {
   "cell_type": "code",
   "execution_count": 39,
   "id": "b2a36f59",
   "metadata": {},
   "outputs": [],
   "source": [
    "# Predict the likelihood of disease for the new patient\n",
    "new_prediction = model.predict(new_patient_scaled)\n",
    "new_prediction_proba = model.predict_proba(new_patient_scaled)"
   ]
  },
  {
   "cell_type": "code",
   "execution_count": 40,
   "id": "25669609",
   "metadata": {},
   "outputs": [
    {
     "name": "stdout",
     "output_type": "stream",
     "text": [
      "Predicted Disease: Healthy\n",
      "Prediction Probabilities: [1.52029369e-02 7.59507023e-07 6.77551382e-01 3.07131414e-01\n",
      " 1.13507646e-04]\n"
     ]
    }
   ],
   "source": [
    "# Print the predicted disease and probabilities\n",
    "predicted_disease = label_encoder.inverse_transform(new_prediction)\n",
    "print(f'Predicted Disease: {predicted_disease[0]}')\n",
    "print(f'Prediction Probabilities: {new_prediction_proba[0]}')"
   ]
  },
  {
   "cell_type": "code",
   "execution_count": null,
   "id": "2a54802e",
   "metadata": {},
   "outputs": [],
   "source": []
  }
 ],
 "metadata": {
  "kernelspec": {
   "display_name": "Python 3 (ipykernel)",
   "language": "python",
   "name": "python3"
  },
  "language_info": {
   "codemirror_mode": {
    "name": "ipython",
    "version": 3
   },
   "file_extension": ".py",
   "mimetype": "text/x-python",
   "name": "python",
   "nbconvert_exporter": "python",
   "pygments_lexer": "ipython3",
   "version": "3.9.13"
  }
 },
 "nbformat": 4,
 "nbformat_minor": 5
}
